{
 "cells": [
  {
   "cell_type": "markdown",
   "metadata": {},
   "source": [
    "![Text Summarization - Extractive](https://images.unsplash.com/photo-1484480974693-6ca0a78fb36b?ixlib=rb-0.3.5&ixid=eyJhcHBfaWQiOjEyMDd9&s=612621fd686897b4812287430c8be9db&auto=format&fit=crop&w=1052&q=80)\n",
    "\n",
    "Source: https://unsplash.com/photos/RLw-UC03Gwc?utm_source=unsplash&utm_medium=referral&utm_content=creditCopyText"
   ]
  },
  {
   "cell_type": "markdown",
   "metadata": {},
   "source": [
    "# Text Summarization - Extractive\n",
    "\n",
    "To catch a quick idea of long document, we will always to do a summarization when we read a article or book. In English, the first (or first two) sentence(s) of each article has a very high chance of representing the whole article. Of course, the topic sentence can be the last sentence in sometimes.\n",
    "\n",
    "In NLP, there are two approaches to do the text summarization. The first one, extractive approach, is a simple approach which is extracting key words or sentences from article. There are some limitations and proved that the performance is not very good. The second one, abstractive approach, is generating a new sentences base on given article. It needs more advanced technique."
   ]
  },
  {
   "cell_type": "markdown",
   "metadata": {},
   "source": [
    "After read this article:\n",
    "- Understand PageRank algorithm\n",
    "- Understand TextRank algorithm\n",
    "- How can we use TextRank algorithm to have a summarization"
   ]
  },
  {
   "cell_type": "markdown",
   "metadata": {},
   "source": [
    "![PageRank Algorithm](https://cdn-images-1.medium.com/max/800/0*OoVjAZzO8II2Oq4N.jpg)\n",
    "\n",
    "Source: https://www.youtube.com/watch?v=P8Kt6Abq_rM"
   ]
  },
  {
   "cell_type": "markdown",
   "metadata": {},
   "source": [
    "PageRank algorithm is developed by Google for searching the most importance of website so that Google search result is relevant to query. \n",
    "\n",
    "In PageRank, it is a directed graph. At the beginning, all node have equal score (1 / total number of node). \n",
    "The algorithm"
   ]
  },
  {
   "cell_type": "markdown",
   "metadata": {},
   "source": [
    "![PageRank Formula](https://blogs.cornell.edu/info2040/files/2015/10/formula-pagerank-seqlz8.jpg)\n",
    "\n",
    "Source: https://blogs.cornell.edu/info2040/2015/10/17/will-outbound-links-reduce-the-pagerank/"
   ]
  },
  {
   "cell_type": "markdown",
   "metadata": {},
   "source": [
    "The first formula is the simplified version of PageRank and we will use this one for demo. The second one is a little bit complicated as it involved one more parameter which is damping factor, \"d\". By default d is 0.85\n",
    "\n",
    "Let take a look in the simplified version. In iteration 1, here is how PageRank calculate:\n",
    "- A: (1/4)/3. As only C is pointing to A, so we use previous C score (iteration 0) divided by number of node (i.e. 3) that C is pointing\n",
    "- B: (1/4)/2 + (1/4)/3. Both A and C are pointing to B, so previous A score (iteration 0) divided by number of node (i.e. 2) that A is pointing. For C, it is same as previous one which is (1/4)/3.\n",
    "\n",
    "For detail, you may checkout the [youtbue](https://www.youtube.com/watch?v=P8Kt6Abq_rM) for full explantation. \n",
    "\n",
    "Question: When should we stop the iteration? <br>\n",
    "According to theory, it should calculate until no big update on score."
   ]
  },
  {
   "cell_type": "markdown",
   "metadata": {},
   "source": [
    "# TextRank\n",
    "Why we need to introduce PageRank before TextRank? Because the idea of TextRank comes from PageRank and using similar algorithm (graph concept) to calculate the importance.\n",
    "\n",
    "Difference: \n",
    "- TextRank graph is undirected. Meaning that all edge are bidirectional\n",
    "- The weight of edge is difference while it is 1 in PageRank. There are different way to calculate such as BM25, TF-IDF.\n",
    "\n",
    "There are a lot of different document similarity implementation such as BM25,  cosine similarity, IDF-modified-cosine. You may choose the best fit for your problem. If you do not have idea about those algorithm, please let us know and we will include it in later sharing."
   ]
  },
  {
   "cell_type": "markdown",
   "metadata": {},
   "source": [
    "![gensim](https://radimrehurek.com/gensim/_static/images/gensim.png)\n",
    "\n",
    "Source: https://radimrehurek.com/gensim/"
   ]
  },
  {
   "cell_type": "markdown",
   "metadata": {},
   "source": [
    "gensim provides a simple API to calculate TextRank by using BM25 (Best Match 25). "
   ]
  },
  {
   "cell_type": "markdown",
   "metadata": {},
   "source": [
    "Step 1: Environment Setup\n",
    "\n",
    "pip install gensim==3.4.0"
   ]
  },
  {
   "cell_type": "markdown",
   "metadata": {},
   "source": [
    "Step 2: Import library"
   ]
  },
  {
   "cell_type": "code",
   "execution_count": 1,
   "metadata": {},
   "outputs": [
    {
     "name": "stdout",
     "output_type": "stream",
     "text": [
      "gensim Version: 3.4.0\n"
     ]
    }
   ],
   "source": [
    "import gensim \n",
    "print('gensim Version: %s' % (gensim.__version__))"
   ]
  },
  {
   "cell_type": "code",
   "execution_count": 2,
   "metadata": {
    "collapsed": true
   },
   "outputs": [],
   "source": [
    "# Capture from https://www.cnbc.com/2018/06/01/microsoft--github-acquisition-talks-resume.html\n",
    "\n",
    "content = \"Microsoft held talks in the past few weeks \" + \\\n",
    "    \"to acquire software developer platform GitHub, Business \" + \\\n",
    "    \"Insider reports. One person familiar with the discussions \" + \\\n",
    "    \"between the companies told CNBC that they had been \" + \\\n",
    "    \"considering a joint marketing partnership valued around \" + \\\n",
    "    \"$35 million, and that those discussions had progressed to \" + \\\n",
    "    \"a possible investment or outright acquisition. It is \" + \\\n",
    "    \"unclear whether talks are still ongoing, but this \" + \\\n",
    "    \"person said that GitHub's price for a full acquisition \" + \\\n",
    "    \"was more than Microsoft currently wanted to pay. GitHub \" + \\\n",
    "    \"was last valued at $2 billion in its last funding round \" + \\\n",
    "    \"2015, but the price tag for an acquisition could be $5 \" + \\\n",
    "    \"billion or more, based on a price that was floated \" + \\\n",
    "    \"last year. GitHub's tools have become essential to \" + \\\n",
    "    \"software developers, who use it to store code, \" + \\\n",
    "    \"keep track of updates and discuss issues. The privately \" + \\\n",
    "    \"held company has more than 23 million individual users in \" + \\\n",
    "    \"more than 1.5 million organizations. It was on track to \" + \\\n",
    "    \"book more than $200 million in subscription revenue, \" + \\\n",
    "    \"including more than $110 million from companies using its \" + \\\n",
    "    \"enterprise product, GitHub told CNBC last fall.Microsoft \" + \\\n",
    "    \"has reportedly flirted with buying GitHub in the past, \" + \\\n",
    "    \"including in 2016, although GitHub denied those \" + \\\n",
    "    \"reports. A partnership would give Microsoft another \" + \\\n",
    "    \"connection point to the developers it needs to court to \" + \\\n",
    "    \"build applications on its various platforms, including \" + \\\n",
    "    \"the Azure cloud. Microsoft could also use data from \" + \\\n",
    "    \"GitHub to improve its artificial intelligence \" + \\\n",
    "    \"producs. The talks come amid GitHub's struggle to \" + \\\n",
    "    \"replace CEO and founder Chris Wanstrath, who stepped \" + \\\n",
    "    \"down 10 months ago. Business Insider reported that \" + \\\n",
    "    \"Microsoft exec Nat Friedman -- who previously \" + \\\n",
    "    \"ran Xamarin, a developer tools start-up that Microsoft \" + \\\n",
    "    \"acquired in 2016 -- may take that CEO role. Google's \" + \\\n",
    "    \"senior VP of ads and commerce, Sridhar Ramaswamy, has \" + \\\n",
    "    \"also been in discussions for the job, says the report. \" + \\\n",
    "    \"Microsoft declined to comment on the report. \" + \\\n",
    "    \"GitHub did not immediately return a request for comment.\""
   ]
  },
  {
   "cell_type": "code",
   "execution_count": 3,
   "metadata": {},
   "outputs": [
    {
     "name": "stdout",
     "output_type": "stream",
     "text": [
      "Original Content:\n",
      "Microsoft held talks in the past few weeks to acquire software developer platform GitHub, Business Insider reports. One person familiar with the discussions between the companies told CNBC that they had been considering a joint marketing partnership valued around $35 million, and that those discussions had progressed to a possible investment or outright acquisition. It is unclear whether talks are still ongoing, but this person said that GitHub's price for a full acquisition was more than Microsoft currently wanted to pay. GitHub was last valued at $2 billion in its last funding round 2015, but the price tag for an acquisition could be $5 billion or more, based on a price that was floated last year. GitHub's tools have become essential to software developers, who use it to store code, keep track of updates and discuss issues. The privately held company has more than 23 million individual users in more than 1.5 million organizations. It was on track to book more than $200 million in subscription revenue, including more than $110 million from companies using its enterprise product, GitHub told CNBC last fall.Microsoft has reportedly flirted with buying GitHub in the past, including in 2016, although GitHub denied those reports. A partnership would give Microsoft another connection point to the developers it needs to court to build applications on its various platforms, including the Azure cloud. Microsoft could also use data from GitHub to improve its artificial intelligence producs. The talks come amid GitHub's struggle to replace CEO and founder Chris Wanstrath, who stepped down 10 months ago. Business Insider reported that Microsoft exec Nat Friedman -- who previously ran Xamarin, a developer tools start-up that Microsoft acquired in 2016 -- may take that CEO role. Google's senior VP of ads and commerce, Sridhar Ramaswamy, has also been in discussions for the job, says the report. Microsoft declined to comment on the report. GitHub did not immediately return a request for comment.\n",
      "\n",
      "---> Summarized Content (Ratio is 0.3):\n",
      "Microsoft held talks in the past few weeks to acquire software developer platform GitHub, Business Insider reports.\n",
      "One person familiar with the discussions between the companies told CNBC that they had been considering a joint marketing partnership valued around $35 million, and that those discussions had progressed to a possible investment or outright acquisition.\n",
      "It was on track to book more than $200 million in subscription revenue, including more than $110 million from companies using its enterprise product, GitHub told CNBC last fall.Microsoft has reportedly flirted with buying GitHub in the past, including in 2016, although GitHub denied those reports.\n",
      "Business Insider reported that Microsoft exec Nat Friedman -- who previously ran Xamarin, a developer tools start-up that Microsoft acquired in 2016 -- may take that CEO role.\n",
      "\n",
      "---> Summarized Content (Ratio is 0.5):\n",
      "Microsoft held talks in the past few weeks to acquire software developer platform GitHub, Business Insider reports.\n",
      "One person familiar with the discussions between the companies told CNBC that they had been considering a joint marketing partnership valued around $35 million, and that those discussions had progressed to a possible investment or outright acquisition.\n",
      "It is unclear whether talks are still ongoing, but this person said that GitHub's price for a full acquisition was more than Microsoft currently wanted to pay.\n",
      "GitHub's tools have become essential to software developers, who use it to store code, keep track of updates and discuss issues.\n",
      "It was on track to book more than $200 million in subscription revenue, including more than $110 million from companies using its enterprise product, GitHub told CNBC last fall.Microsoft has reportedly flirted with buying GitHub in the past, including in 2016, although GitHub denied those reports.\n",
      "Business Insider reported that Microsoft exec Nat Friedman -- who previously ran Xamarin, a developer tools start-up that Microsoft acquired in 2016 -- may take that CEO role.\n",
      "Microsoft declined to comment on the report.\n",
      "\n",
      "---> Summarized Content (Ratio is 0.7):\n",
      "Microsoft held talks in the past few weeks to acquire software developer platform GitHub, Business Insider reports.\n",
      "One person familiar with the discussions between the companies told CNBC that they had been considering a joint marketing partnership valued around $35 million, and that those discussions had progressed to a possible investment or outright acquisition.\n",
      "It is unclear whether talks are still ongoing, but this person said that GitHub's price for a full acquisition was more than Microsoft currently wanted to pay.\n",
      "GitHub's tools have become essential to software developers, who use it to store code, keep track of updates and discuss issues.\n",
      "The privately held company has more than 23 million individual users in more than 1.5 million organizations.\n",
      "It was on track to book more than $200 million in subscription revenue, including more than $110 million from companies using its enterprise product, GitHub told CNBC last fall.Microsoft has reportedly flirted with buying GitHub in the past, including in 2016, although GitHub denied those reports.\n",
      "A partnership would give Microsoft another connection point to the developers it needs to court to build applications on its various platforms, including the Azure cloud.\n",
      "Business Insider reported that Microsoft exec Nat Friedman -- who previously ran Xamarin, a developer tools start-up that Microsoft acquired in 2016 -- may take that CEO role.\n",
      "Microsoft declined to comment on the report.\n"
     ]
    }
   ],
   "source": [
    "print('Original Content:')\n",
    "print(content)\n",
    "for ratio in [0.3, 0.5, 0.7]:\n",
    "    summarized_content = gensim.summarization.summarize(content, ratio=ratio)\n",
    "    print()\n",
    "    print('---> Summarized Content (Ratio is %.1f):' % ratio)\n",
    "    print(summarized_content)"
   ]
  },
  {
   "cell_type": "code",
   "execution_count": 4,
   "metadata": {},
   "outputs": [
    {
     "name": "stdout",
     "output_type": "stream",
     "text": [
      "Original Content:\n",
      "Microsoft held talks in the past few weeks to acquire software developer platform GitHub, Business Insider reports. One person familiar with the discussions between the companies told CNBC that they had been considering a joint marketing partnership valued around $35 million, and that those discussions had progressed to a possible investment or outright acquisition. It is unclear whether talks are still ongoing, but this person said that GitHub's price for a full acquisition was more than Microsoft currently wanted to pay. GitHub was last valued at $2 billion in its last funding round 2015, but the price tag for an acquisition could be $5 billion or more, based on a price that was floated last year. GitHub's tools have become essential to software developers, who use it to store code, keep track of updates and discuss issues. The privately held company has more than 23 million individual users in more than 1.5 million organizations. It was on track to book more than $200 million in subscription revenue, including more than $110 million from companies using its enterprise product, GitHub told CNBC last fall.Microsoft has reportedly flirted with buying GitHub in the past, including in 2016, although GitHub denied those reports. A partnership would give Microsoft another connection point to the developers it needs to court to build applications on its various platforms, including the Azure cloud. Microsoft could also use data from GitHub to improve its artificial intelligence producs. The talks come amid GitHub's struggle to replace CEO and founder Chris Wanstrath, who stepped down 10 months ago. Business Insider reported that Microsoft exec Nat Friedman -- who previously ran Xamarin, a developer tools start-up that Microsoft acquired in 2016 -- may take that CEO role. Google's senior VP of ads and commerce, Sridhar Ramaswamy, has also been in discussions for the job, says the report. Microsoft declined to comment on the report. GitHub did not immediately return a request for comment.\n",
      "\n",
      "---> Summarized Content (Word Count is 10):\n",
      "Microsoft held talks in the past few weeks to acquire software developer platform GitHub, Business Insider reports.\n",
      "\n",
      "---> Summarized Content (Word Count is 30):\n",
      "Microsoft held talks in the past few weeks to acquire software developer platform GitHub, Business Insider reports.\n",
      "\n",
      "---> Summarized Content (Word Count is 50):\n",
      "Microsoft held talks in the past few weeks to acquire software developer platform GitHub, Business Insider reports.\n",
      "It was on track to book more than $200 million in subscription revenue, including more than $110 million from companies using its enterprise product, GitHub told CNBC last fall.Microsoft has reportedly flirted with buying GitHub in the past, including in 2016, although GitHub denied those reports.\n"
     ]
    }
   ],
   "source": [
    "print('Original Content:')\n",
    "print(content)\n",
    "for word_count in [10, 30, 50]:\n",
    "    summarized_content = gensim.summarization.summarize(content, word_count=word_count)\n",
    "    print()\n",
    "    print('---> Summarized Content (Word Count is %d):' % word_count)\n",
    "    print(summarized_content)"
   ]
  },
  {
   "cell_type": "markdown",
   "metadata": {},
   "source": [
    "# Conclusion\n",
    "For entire code, you may check out from github. Let us know if you also want to understand about abstractive approach. Will arrange an article later on\n",
    "\n",
    "- According to gensim source code, at least 10 sentences is recommend for the input \n",
    "- No training data or model building is required. \n",
    "- It fits not only English but also any other a bag of input (Symbol, Japanese etc). You may also read [TextRank research paper](http://www.aclweb.org/anthology/W04-3252) for detail understanding."
   ]
  }
 ],
 "metadata": {
  "kernelspec": {
   "display_name": "Python 3",
   "language": "python",
   "name": "python3"
  },
  "language_info": {
   "codemirror_mode": {
    "name": "ipython",
    "version": 3
   },
   "file_extension": ".py",
   "mimetype": "text/x-python",
   "name": "python",
   "nbconvert_exporter": "python",
   "pygments_lexer": "ipython3",
   "version": "3.5.2"
  }
 },
 "nbformat": 4,
 "nbformat_minor": 2
}
