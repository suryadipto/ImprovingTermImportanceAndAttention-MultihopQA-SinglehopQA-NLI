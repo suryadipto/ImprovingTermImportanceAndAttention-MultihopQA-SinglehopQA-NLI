{
 "cells": [
  {
   "cell_type": "markdown",
   "metadata": {},
   "source": [
    "![Stemming](https://i1.wp.com/s3-eu-west-1.amazonaws.com/leadersandco/wp-content/uploads/2017/05/31224050/Diary-writing-is-an-old-human-art.jpg?fit=800%2C600&ssl=1)\n",
    "\n",
    "Source: https://www.thisdaylive.com/index.php/2017/05/31/death-of-the-diary/"
   ]
  },
  {
   "cell_type": "markdown",
   "metadata": {},
   "source": [
    "# Stemming\n",
    "\n",
    "After tokenized word, we may want a root form rather than the original input form for post processing or modelling such as topic classification. The root word does not necessarily a word itself. For example, \"reduc\" is a root word of \"reduce\", \"suffici\" is a root word of \"sufficient\".\n",
    "\n",
    "There are lots of stemming algorithm in NLTK. Porter Stemmer and Snowball Stemmer (aka Porter2) will be selected for demonstration because they are the most popular."
   ]
  },
  {
   "cell_type": "code",
   "execution_count": 1,
   "metadata": {
    "collapsed": true
   },
   "outputs": [],
   "source": [
    "# Copy from https://en.wikipedia.org/wiki/Stemming\n",
    "\n",
    "article = 'In linguistic morphology and information retrieval, stemming is the process of \\\n",
    "reducing inflected (or sometimes derived) words to their word stem, base or root \\\n",
    "form—generally a written word form. The stem need not be identical to the morphological \\\n",
    "root of the word; it is usually sufficient that related words map to the same stem, even \\\n",
    "if this stem is not in itself a valid root.'"
   ]
  },
  {
   "cell_type": "markdown",
   "metadata": {},
   "source": [
    "### Porter Stemmer"
   ]
  },
  {
   "cell_type": "code",
   "execution_count": 2,
   "metadata": {},
   "outputs": [
    {
     "name": "stdout",
     "output_type": "stream",
     "text": [
      "NLTK Version: 3.2.5\n"
     ]
    }
   ],
   "source": [
    "import nltk \n",
    "print('NLTK Version: %s' % (nltk.__version__))\n",
    "\n",
    "porter_stemmer = nltk.stem.PorterStemmer()"
   ]
  },
  {
   "cell_type": "code",
   "execution_count": 3,
   "metadata": {},
   "outputs": [
    {
     "name": "stdout",
     "output_type": "stream",
     "text": [
      "Original Article: In linguistic morphology and information retrieval, stemming is the process of reducing inflected (or sometimes derived) words to their word stem, base or root form—generally a written word form. The stem need not be identical to the morphological root of the word; it is usually sufficient that related words map to the same stem, even if this stem is not in itself a valid root.\n",
      "\n",
      "Original : linguistic, New: linguist\n",
      "Original : morphology, New: morpholog\n",
      "Original : information, New: inform\n",
      "Original : retrieval, New: retriev\n",
      "Original : stemming, New: stem\n",
      "Original : reducing, New: reduc\n",
      "Original : inflected, New: inflect\n",
      "Original : sometimes, New: sometim\n",
      "Original : derived, New: deriv\n",
      "Original : words, New: word\n",
      "Original : form—generally, New: form—gener\n",
      "Original : The, New: the\n",
      "Original : identical, New: ident\n",
      "Original : morphological, New: morpholog\n",
      "Original : usually, New: usual\n",
      "Original : sufficient, New: suffici\n",
      "Original : related, New: relat\n",
      "Original : words, New: word\n",
      "Original : this, New: thi\n"
     ]
    }
   ],
   "source": [
    "tokens = nltk.word_tokenize(article)\n",
    "\n",
    "print('Original Article: %s' % (article))\n",
    "print()\n",
    "\n",
    "for token in tokens:\n",
    "    stemmed_token = porter_stemmer.stem(token)\n",
    "    \n",
    "    if token != stemmed_token:\n",
    "        print('Original : %s, New: %s' % (token, stemmed_token))"
   ]
  },
  {
   "cell_type": "markdown",
   "metadata": {},
   "source": [
    "### Snowball Stemmer"
   ]
  },
  {
   "cell_type": "code",
   "execution_count": 5,
   "metadata": {},
   "outputs": [
    {
     "name": "stdout",
     "output_type": "stream",
     "text": [
      "NLTK Version: 3.2.5\n"
     ]
    }
   ],
   "source": [
    "import nltk \n",
    "print('NLTK Version: %s' % (nltk.__version__))\n",
    "\n",
    "snowball_stemmer = nltk.stem.SnowballStemmer('english')"
   ]
  },
  {
   "cell_type": "code",
   "execution_count": 6,
   "metadata": {},
   "outputs": [
    {
     "name": "stdout",
     "output_type": "stream",
     "text": [
      "Original Article: In linguistic morphology and information retrieval, stemming is the process of reducing inflected (or sometimes derived) words to their word stem, base or root form—generally a written word form. The stem need not be identical to the morphological root of the word; it is usually sufficient that related words map to the same stem, even if this stem is not in itself a valid root.\n",
      "\n",
      "Original : In, New: in\n",
      "Original : linguistic, New: linguist\n",
      "Original : morphology, New: morpholog\n",
      "Original : information, New: inform\n",
      "Original : retrieval, New: retriev\n",
      "Original : stemming, New: stem\n",
      "Original : reducing, New: reduc\n",
      "Original : inflected, New: inflect\n",
      "Original : sometimes, New: sometim\n",
      "Original : derived, New: deriv\n",
      "Original : words, New: word\n",
      "Original : form—generally, New: form—gener\n",
      "Original : The, New: the\n",
      "Original : identical, New: ident\n",
      "Original : morphological, New: morpholog\n",
      "Original : usually, New: usual\n",
      "Original : sufficient, New: suffici\n",
      "Original : related, New: relat\n",
      "Original : words, New: word\n"
     ]
    }
   ],
   "source": [
    "tokens = nltk.word_tokenize(article)\n",
    "\n",
    "print('Original Article: %s' % (article))\n",
    "print()\n",
    "\n",
    "for token in tokens:\n",
    "    stemmed_token = snowball_stemmer.stem(token)\n",
    "    \n",
    "    if token != stemmed_token:\n",
    "        print('Original : %s, New: %s' % (token, stemmed_token))"
   ]
  },
  {
   "cell_type": "markdown",
   "metadata": {},
   "source": [
    "Except \"In\", the result of Snowball Stemmer are same as Porter Stemmer."
   ]
  },
  {
   "cell_type": "markdown",
   "metadata": {},
   "source": [
    "# Conclusion\n",
    "\n",
    "\n",
    "Snowball Stemmer not only support English, but also Germanic and other languages as well. For detail, you may check on the Snowball website. \n",
    "\n",
    "Snowball Stemmer: http://snowballstem.org/algorithms/\n",
    "\n",
    "Besides Porter Stemmer and Snowball Stemmer, reader may also have on look on other stemmer algorithm such as Hunspell\n",
    "\n",
    "Hunspell Stemmer: https://github.com/hunspell/hunspell"
   ]
  }
 ],
 "metadata": {
  "kernelspec": {
   "display_name": "Python 3",
   "language": "python",
   "name": "python3"
  },
  "language_info": {
   "codemirror_mode": {
    "name": "ipython",
    "version": 3
   },
   "file_extension": ".py",
   "mimetype": "text/x-python",
   "name": "python",
   "nbconvert_exporter": "python",
   "pygments_lexer": "ipython3",
   "version": "3.5.2"
  }
 },
 "nbformat": 4,
 "nbformat_minor": 2
}
