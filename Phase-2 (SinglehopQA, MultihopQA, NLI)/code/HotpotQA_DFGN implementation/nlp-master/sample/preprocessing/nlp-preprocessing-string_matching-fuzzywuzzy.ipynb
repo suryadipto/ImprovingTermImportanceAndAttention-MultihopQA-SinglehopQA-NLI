{
 "cells": [
  {
   "cell_type": "markdown",
   "metadata": {},
   "source": [
    "### Data Preparation"
   ]
  },
  {
   "cell_type": "code",
   "execution_count": 1,
   "metadata": {},
   "outputs": [],
   "source": [
    "%reload_ext  autoreload\n",
    "%autoreload 2\n",
    "\n",
    "import sys, os\n",
    "def add_aion(curr_path=None):\n",
    "    if curr_path is None:\n",
    "        dir_path = os.getcwd()\n",
    "        target_path = os.path.dirname(os.path.dirname(dir_path))\n",
    "        if target_path not in sys.path:\n",
    "            sys.path.insert(0, target_path)\n",
    "            \n",
    "add_aion()"
   ]
  },
  {
   "cell_type": "code",
   "execution_count": 2,
   "metadata": {},
   "outputs": [
    {
     "name": "stdout",
     "output_type": "stream",
     "text": [
      "2018-12-27 19:39:50.455930. [DOWNLOAD] From https://raw.githubusercontent.com/umpirsky/country-list/master/data/en/country.csv to ../../data/location/country.csv\n",
      "0 : Afghanistan\n",
      "1 : Åland Islands\n",
      "2 : Albania\n",
      "3 : Algeria\n",
      "4 : American Samoa\n"
     ]
    }
   ],
   "source": [
    "import pandas as pd\n",
    "from aion.helper.file_helper import FileHelper\n",
    "\n",
    "file_helper = FileHelper()\n",
    "countries_file_path = file_helper.download(\n",
    "    src='https://raw.githubusercontent.com/umpirsky/country-list/master/data/en/country.csv', \n",
    "    dest_dir='../../data/location/', dest_file='country.csv', force_download=True)\n",
    "\n",
    "country_df = pd.read_csv(countries_file_path)\n",
    "countries = country_df['value'].tolist()\n",
    "\n",
    "for i, country in enumerate(countries[:5]):\n",
    "    print(i, \":\", country)"
   ]
  },
  {
   "cell_type": "markdown",
   "metadata": {},
   "source": [
    "### Fuzzywuzzy"
   ]
  },
  {
   "cell_type": "code",
   "execution_count": 4,
   "metadata": {},
   "outputs": [],
   "source": [
    "from fuzzywuzzy import fuzz\n",
    "from fuzzywuzzy import process"
   ]
  },
  {
   "cell_type": "code",
   "execution_count": 5,
   "metadata": {},
   "outputs": [
    {
     "name": "stdout",
     "output_type": "stream",
     "text": [
      "[('Hong Kong SAR China', 90), ('Congo - Kinshasa', 57)]\n",
      "[('Japan', 60), ('Yemen', 60)]\n",
      "[('United States', 96), ('United Arab Emirates', 86)]\n"
     ]
    }
   ],
   "source": [
    "# Default scorer is Weighed Ratio\n",
    "for location in ['Hong Kong', 'jepen', 'United tates']:\n",
    "    result = process.extract(location, countries, limit=2)\n",
    "    print(result)"
   ]
  },
  {
   "cell_type": "code",
   "execution_count": 6,
   "metadata": {},
   "outputs": [
    {
     "data": {
      "text/plain": [
       "[('Edwards', 92), ('Edwards2', 86), ('drawdE', 50)]"
      ]
     },
     "execution_count": 6,
     "metadata": {},
     "output_type": "execute_result"
    }
   ],
   "source": [
    "# Ratio\n",
    "process.extract('Edward', ['Edwards', 'Edwards2', 'drawdE'], scorer=fuzz.ratio)"
   ]
  },
  {
   "cell_type": "code",
   "execution_count": 7,
   "metadata": {},
   "outputs": [
    {
     "data": {
      "text/plain": [
       "[('Hong Kong SAR China', 64), ('Congo - Kinshasa', 48), ('Mongolia', 47)]"
      ]
     },
     "execution_count": 7,
     "metadata": {},
     "output_type": "execute_result"
    }
   ],
   "source": [
    "# Partial Ratio\n",
    "process.extract('Hong Kong', countries, scorer=fuzz.QRatio, limit=3)"
   ]
  }
 ],
 "metadata": {
  "kernelspec": {
   "display_name": "Python 3",
   "language": "python",
   "name": "python3"
  },
  "language_info": {
   "codemirror_mode": {
    "name": "ipython",
    "version": 3
   },
   "file_extension": ".py",
   "mimetype": "text/x-python",
   "name": "python",
   "nbconvert_exporter": "python",
   "pygments_lexer": "ipython3",
   "version": "3.5.5"
  }
 },
 "nbformat": 4,
 "nbformat_minor": 2
}
