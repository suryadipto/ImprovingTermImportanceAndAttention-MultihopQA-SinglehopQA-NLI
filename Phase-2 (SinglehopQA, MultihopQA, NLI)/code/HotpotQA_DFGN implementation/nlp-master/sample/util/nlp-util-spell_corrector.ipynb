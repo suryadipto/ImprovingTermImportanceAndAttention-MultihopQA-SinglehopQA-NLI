{
 "cells": [
  {
   "cell_type": "markdown",
   "metadata": {},
   "source": [
    "# Data Ingestion"
   ]
  },
  {
   "cell_type": "code",
   "execution_count": 1,
   "metadata": {
    "collapsed": true
   },
   "outputs": [],
   "source": [
    "from collections import Counter\n",
    "from sklearn.datasets import fetch_20newsgroups\n",
    "import re\n",
    "\n",
    "\n",
    "corpus = []\n",
    "for line in fetch_20newsgroups().data:\n",
    "    line = line.replace('\\n', ' ').replace('\\t', ' ').lower()\n",
    "    line = re.sub('[^a-z ]', ' ', line)\n",
    "    tokens = line.split(' ')\n",
    "    tokens = [token for token in tokens if len(token) > 0]\n",
    "    corpus.extend(tokens)\n",
    "\n",
    "corpus = Counter(corpus)"
   ]
  },
  {
   "cell_type": "code",
   "execution_count": 2,
   "metadata": {},
   "outputs": [],
   "source": [
    "%reload_ext  autoreload\n",
    "%autoreload 2\n",
    "\n",
    "import sys, os\n",
    "def add_aion(curr_path=None):\n",
    "    if curr_path is None:\n",
    "        dir_path = os.getcwd()\n",
    "        target_path = os.path.dirname(os.path.dirname(dir_path))\n",
    "        if target_path not in sys.path:\n",
    "#             print('Added %s into sys.path.' % (target_path))\n",
    "            sys.path.insert(0, target_path)\n",
    "            \n",
    "add_aion()"
   ]
  },
  {
   "cell_type": "markdown",
   "metadata": {},
   "source": [
    "# SpellCorrector"
   ]
  },
  {
   "cell_type": "code",
   "execution_count": 3,
   "metadata": {},
   "outputs": [
    {
     "name": "stdout",
     "output_type": "stream",
     "text": [
      "Known Result:  set()\n",
      "Edit1 Result:  {'edward', 'edwards'}\n",
      "Edit2 Result:  {'gedwards', 'edward', 'eduard', 'edvard', 'tedward', 'edgardo', 'edwards', 'tedwards'}\n"
     ]
    },
    {
     "data": {
      "text/plain": [
       "'edward'"
      ]
     },
     "execution_count": 3,
     "metadata": {},
     "output_type": "execute_result"
    }
   ],
   "source": [
    "from aion.util.spell_corrector import SpellCorrector\n",
    "\n",
    "spell_corrector = SpellCorrector(dictionary=corpus, verbose=1)\n",
    "spell_corrector.correction('edwardd')"
   ]
  }
 ],
 "metadata": {
  "kernelspec": {
   "display_name": "Python 3",
   "language": "python",
   "name": "python3"
  },
  "language_info": {
   "codemirror_mode": {
    "name": "ipython",
    "version": 3
   },
   "file_extension": ".py",
   "mimetype": "text/x-python",
   "name": "python",
   "nbconvert_exporter": "python",
   "pygments_lexer": "ipython3",
   "version": "3.5.2"
  }
 },
 "nbformat": 4,
 "nbformat_minor": 2
}
