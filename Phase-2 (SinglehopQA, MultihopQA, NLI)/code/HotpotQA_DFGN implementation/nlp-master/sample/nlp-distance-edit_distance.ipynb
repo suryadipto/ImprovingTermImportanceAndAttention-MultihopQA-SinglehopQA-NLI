{
 "cells": [
  {
   "cell_type": "markdown",
   "metadata": {},
   "source": [
    "# Edit Distance"
   ]
  },
  {
   "cell_type": "code",
   "execution_count": 1,
   "metadata": {},
   "outputs": [
    {
     "name": "stdout",
     "output_type": "stream",
     "text": [
      "Edit Distance for \"edward\" and \"edwin\" is 3\n",
      "Edit Distance for \"Edward\" and \"edwin\" is 4\n"
     ]
    }
   ],
   "source": [
    "import editdistance\n",
    "\n",
    "data = ['edward', 'Edward']\n",
    "\n",
    "for record in data:\n",
    "    dist = editdistance.eval(record, 'edwin')\n",
    "    print('Edit Distance for \"%s\" and \"%s\" is %d' % (record, 'edwin', dist))"
   ]
  }
 ],
 "metadata": {
  "kernelspec": {
   "display_name": "Python 3",
   "language": "python",
   "name": "python3"
  },
  "language_info": {
   "codemirror_mode": {
    "name": "ipython",
    "version": 3
   },
   "file_extension": ".py",
   "mimetype": "text/x-python",
   "name": "python",
   "nbconvert_exporter": "python",
   "pygments_lexer": "ipython3",
   "version": "3.5.2"
  }
 },
 "nbformat": 4,
 "nbformat_minor": 2
}
